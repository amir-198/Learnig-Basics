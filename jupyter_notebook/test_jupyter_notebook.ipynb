{
 "cells": [
  {
   "cell_type": "markdown",
   "id": "f7d1023e",
   "metadata": {},
   "source": [
    "# python ka chilla with baba Ammar\n",
    "## how to use jupytor notebook\n",
    "## basics of python\n",
    "\n",
    "### **01- my first program**\n"
   ]
  },
  {
   "cell_type": "code",
   "execution_count": 1,
   "id": "69e26c50",
   "metadata": {},
   "outputs": [
    {
     "name": "stdout",
     "output_type": "stream",
     "text": [
      "2+3\n",
      "hello word\n",
      "we are learning python with Ammar\n"
     ]
    }
   ],
   "source": [
    "# My_First Program in Python\n",
    "print(\"2+3\")\n",
    "print(\"hello word\")\n",
    "print(\"we are learning python with Ammar\")"
   ]
  },
  {
   "cell_type": "markdown",
   "id": "8a0302b5",
   "metadata": {},
   "source": [
    "### **02-operators**"
   ]
  },
  {
   "cell_type": "code",
   "execution_count": 2,
   "id": "3e79703f",
   "metadata": {},
   "outputs": [
    {
     "name": "stdout",
     "output_type": "stream",
     "text": [
      "5\n",
      "1\n",
      "3.0\n",
      "6\n",
      "1\n",
      "3\n",
      "8\n",
      "17.25\n",
      "62.25\n"
     ]
    }
   ],
   "source": [
    "print(2+3)\n",
    "print(3-2)\n",
    "print(6/2)\n",
    "print(2*3)\n",
    "print(13%2)\n",
    "print(6//2)\n",
    "print(2**3)\n",
    "print(3**2/4*5+8-2)\n",
    "print((3**2)*5/4*5+8-2)"
   ]
  },
  {
   "cell_type": "markdown",
   "id": "7b5e18fe",
   "metadata": {},
   "source": [
    "*PEMDAS*\n",
    "*prenthesis,exponanats, multiply, division, addition,subtraction*\n",
    "*left to right sequence for  M D & A S*"
   ]
  },
  {
   "cell_type": "markdown",
   "id": "78369212",
   "metadata": {},
   "source": [
    "### **03-strings**"
   ]
  },
  {
   "cell_type": "code",
   "execution_count": 3,
   "id": "6352a99e",
   "metadata": {},
   "outputs": [
    {
     "name": "stdout",
     "output_type": "stream",
     "text": [
      "5\n",
      "hello word\n",
      "hi\n",
      " Test for single qoute\n",
      " test for double qoute\n",
      " test for triple qoute\n",
      "   what are you doing   ????\n",
      "sea_creatures\n"
     ]
    }
   ],
   "source": [
    "print(2+3)\n",
    "print(\"hello word\")\n",
    "print(\"hi\")\n",
    "print(' Test for single qoute')\n",
    "print(\" test for double qoute\")\n",
    "print(''' test for triple qoute''')\n",
    "print(\"   what are you doing   ????\")\n",
    "print(\"sea_creatures\")"
   ]
  },
  {
   "cell_type": "markdown",
   "id": "edbe45d5",
   "metadata": {},
   "source": [
    "### **04-comments**\n",
    "the shortcut key to comments is **ctrl+/**"
   ]
  },
  {
   "cell_type": "code",
   "execution_count": 4,
   "id": "f45f8f20",
   "metadata": {},
   "outputs": [
    {
     "name": "stdout",
     "output_type": "stream",
     "text": [
      "hello word\n",
      "hi\n",
      " Test for single qoute\n",
      " test for double qoute\n",
      " test for triple qoute\n",
      "   what are you doing   ????\n",
      "5\n"
     ]
    }
   ],
   "source": [
    "print(\"hello word\")\n",
    "print(\"hi\")\n",
    "print(' Test for single qoute')\n",
    "print(\" test for double qoute\")\n",
    "print(''' test for triple qoute''')\n",
    "print(\"   what are you doing   ????\")\n",
    "print(2+3)  #using operator function"
   ]
  },
  {
   "cell_type": "markdown",
   "id": "07c5bd68",
   "metadata": {},
   "source": [
    "### **05-variables**"
   ]
  },
  {
   "cell_type": "code",
   "execution_count": 5,
   "id": "6322dcc2",
   "metadata": {},
   "outputs": [
    {
     "name": "stdout",
     "output_type": "stream",
     "text": [
      "5\n",
      "we are learning python with ammar\n",
      "15\n",
      "<class 'int'>\n",
      "<class 'str'>\n",
      "<class 'str'>\n",
      "Mangoes\n"
     ]
    }
   ],
   "source": [
    "#variables: objects containing specific values\n",
    "x = 5 # numeric or integer variables\n",
    "print(x)\n",
    "y=\"we are learning python with ammar\" #string variable\n",
    "print(y)\n",
    "x=15\n",
    "print(x)\n",
    "x=x+10 #or x=15\n",
    "#types or class of variables\n",
    "type(x)\n",
    "print(type(x))\n",
    "print(type(y))\n",
    "\n",
    "\n",
    "#Rules to assign variables\n",
    "# 1- variables should contain letters, number or underscores\n",
    "# 2- Dont start with numbers\n",
    "# 3- Spaces are not allowed\n",
    "# 4- Dont use keywords in fucntions (break, mean,media,test etc)\n",
    "# 5- short and descriptive\n",
    "# 6- case senstive (lowercase uppercase letter lowercase letter should be used)\n",
    "\n",
    "\n",
    "fruit_basket= 8\n",
    "fruit_basket= \"Mangoes\"\n",
    "print(type(fruit_basket))\n",
    "print(fruit_basket)"
   ]
  },
  {
   "cell_type": "markdown",
   "id": "74de974d",
   "metadata": {},
   "source": [
    "### **06-input_variables**"
   ]
  },
  {
   "cell_type": "code",
   "execution_count": 6,
   "id": "16dcbb13",
   "metadata": {},
   "outputs": [
    {
     "name": "stdout",
     "output_type": "stream",
     "text": [
      "mangoes\n",
      "what is your favourite fruit ? Mangoes\n",
      "Mangoes\n",
      "what is your name ? Amir\n",
      "hello ! Amir\n",
      "what is your name ? Amir\n",
      "hello ! Amir\n",
      "what is your name? Amir\n",
      "how old are you? 30\n",
      "hello ! Amir  ,You are still young\n"
     ]
    }
   ],
   "source": [
    "fruit_basket= \"mangoes\"\n",
    "print(fruit_basket)\n",
    "\n",
    "#input function\n",
    "fruit_basket= input(\"what is your favourite fruit ? \")\n",
    "print(fruit_basket)\n",
    "\n",
    "#input function 2nd stage\n",
    "\n",
    "\n",
    "\n",
    "name=input(\"what is your name ? \")\n",
    "greetings= \"hello !\"\n",
    "print(greetings, name)\n",
    "\n",
    "#anotherway of 2nd stage functions\n",
    "name=input(\"what is your name ? \")\n",
    "\n",
    "print(\"hello !\", name)\n",
    "\n",
    "#3rd function\n",
    "\n",
    "name= input(\"what is your name? \")\n",
    "age= input(\"how old are you? \")\n",
    "greetings= \"hello !\"\n",
    "print(greetings, name, \" ,You are still young\")"
   ]
  },
  {
   "cell_type": "markdown",
   "id": "6daf693e",
   "metadata": {},
   "source": [
    "### **07-Conditional Logics**"
   ]
  },
  {
   "cell_type": "code",
   "execution_count": 7,
   "id": "0ee3dfdd",
   "metadata": {},
   "outputs": [
    {
     "name": "stdout",
     "output_type": "stream",
     "text": [
      "True\n",
      "False\n",
      "True\n",
      "True\n",
      "False\n",
      "how old is hammad? 25\n",
      "<class 'int'>\n",
      "False\n"
     ]
    }
   ],
   "source": [
    "#logical operators are  true or false or yes or no or 0 or 1\n",
    "#equal to                       ==\n",
    "#not equal to                   !=\n",
    "# less than                        <\n",
    "# greater than                     >\n",
    "# less than and equal to           <=\n",
    "# greater than and equal to        >=\n",
    "\n",
    "print(4==4)\n",
    "print(4!=4)\n",
    "print(4>3)\n",
    "print(5>=4)\n",
    "#application of logical functions\n",
    "hammd_age=4\n",
    "age_at_school=5\n",
    "print(hammd_age==age_at_school)\n",
    "\n",
    "#input function and logical operators\n",
    "\n",
    "age_at_school=4\n",
    "hammad_age=input(\"how old is hammad? \") #input function\n",
    "hammad_age=int(hammad_age)\n",
    "print(type(hammad_age))\n",
    "\n",
    "print(hammad_age==age_at_school) #logica; operator"
   ]
  },
  {
   "cell_type": "markdown",
   "id": "2dd0e4af",
   "metadata": {},
   "source": [
    "### **08-Type Conversion**"
   ]
  },
  {
   "cell_type": "code",
   "execution_count": 8,
   "id": "de877405",
   "metadata": {},
   "outputs": [
    {
     "name": "stdout",
     "output_type": "stream",
     "text": [
      "<class 'float'>\n",
      "<class 'int'>\n",
      "<class 'str'>\n",
      "20.2 type of x is: <class 'float'>\n",
      "what is your age? 30\n",
      "30 <class 'int'>\n",
      "what is your name? Amir\n",
      "Amir <class 'str'>\n"
     ]
    }
   ],
   "source": [
    "x=10.2\n",
    "y=10\n",
    "z=\"hello\"\n",
    "print(type(x))\n",
    "print(type(y))\n",
    "print(type(z))\n",
    "\n",
    "#implcit type conversion\n",
    "x=x+y\n",
    "print(x, \"type of x is:\", type(x))\n",
    "\n",
    "#explcit type conversion\n",
    "age=input(\"what is your age? \")\n",
    "# age=int(age)\n",
    "print(age, type(int(age)))\n",
    "\n",
    "name=input(\"what is your name? \")\n",
    "print(name, type(str(name)))"
   ]
  },
  {
   "cell_type": "markdown",
   "id": "8c8ae559",
   "metadata": {},
   "source": [
    "### **09-If_Else_Elif**"
   ]
  },
  {
   "cell_type": "code",
   "execution_count": 9,
   "id": "f9a7bb3b",
   "metadata": {},
   "outputs": [
    {
     "name": "stdout",
     "output_type": "stream",
     "text": [
      "hammad cannot go to school\n"
     ]
    }
   ],
   "source": [
    "hammad_age = 4\n",
    "required_age_at_school = 5\n",
    "\n",
    "#question: can hammad go to school?\n",
    "\n",
    "if hammad_age == required_age_at_school:\n",
    "    print(\"congratulations hammad can join the school\") \n",
    "elif hammad_age > required_age_at_school:\n",
    "    print(\" hammad should join higher school\")\n",
    "elif hammad_age == 2:\n",
    "    print(\"take care of hammad, he is is still a baby\")\n",
    "else:\n",
    "    print(\"hammad cannot go to school\")"
   ]
  },
  {
   "cell_type": "markdown",
   "id": "00d79a6d",
   "metadata": {},
   "source": [
    "### **10-Functions**"
   ]
  },
  {
   "cell_type": "code",
   "execution_count": 10,
   "id": "5e57db58",
   "metadata": {},
   "outputs": [
    {
     "name": "stdout",
     "output_type": "stream",
     "text": [
      "we are learning with ammar\n",
      "we are learning with ammar\n",
      "we are learning with ammar\n",
      "we are learning with ammar in codanics youtube channel\n",
      "we are learning with ammar in codanics youtube channel\n",
      "we are learning with ammar in codanics youtube channel\n",
      "we are learning with ammar\n",
      "we are learning with ammar\n",
      "we are learning with ammar\n",
      "48\n"
     ]
    }
   ],
   "source": [
    "# define #functions\n",
    "\n",
    "def print_codanics():\n",
    "    print(\"we are learning with ammar\")\n",
    "    print(\"we are learning with ammar\")\n",
    "    print(\"we are learning with ammar\")\n",
    "\n",
    "print_codanics()\n",
    "\n",
    "def print_codanics():\n",
    "    text = \"we are learning with ammar in codanics youtube channel\"\n",
    "    print(text)\n",
    "    print(text)\n",
    "    print(text)\n",
    "\n",
    "print_codanics()\n",
    "\n",
    "def print_codanics(text):\n",
    "    print(text)\n",
    "    print(text)\n",
    "    print(text)\n",
    "\n",
    "print_codanics(\"we are learning with ammar\")\n",
    "\n",
    "#defining a function with if, else and elif statements\n",
    "\n",
    "#defining a future function\n",
    "\n",
    "def future_age(age):\n",
    "    new_age=age+20\n",
    "    return new_age\n",
    "    print(new_age)\n",
    "\n",
    "future_prdicted_age= future_age(28)\n",
    "print(future_prdicted_age) \n"
   ]
  },
  {
   "cell_type": "markdown",
   "id": "3f03e0db",
   "metadata": {},
   "source": [
    "### **11-Loops**"
   ]
  },
  {
   "cell_type": "code",
   "execution_count": 11,
   "id": "7507c3dc",
   "metadata": {},
   "outputs": [
    {
     "name": "stdout",
     "output_type": "stream",
     "text": [
      "0\n",
      "1\n",
      "2\n",
      "3\n",
      "4\n",
      "5\n",
      "5\n",
      "6\n",
      "7\n",
      "8\n",
      "9\n"
     ]
    }
   ],
   "source": [
    "#while loops and for loops\n",
    "#whil loops\n",
    "\n",
    "#from ast import While\n",
    "\n",
    "\n",
    "x=0\n",
    "while(x<=5):\n",
    "    print(x)\n",
    "    x=x+1\n",
    "\n",
    "for x in range(5,10):\n",
    "    print(x)\n",
    "    "
   ]
  },
  {
   "cell_type": "markdown",
   "id": "09d216d9",
   "metadata": {},
   "source": [
    "### **12-Import Libraries**"
   ]
  },
  {
   "cell_type": "code",
   "execution_count": 12,
   "id": "606157b6",
   "metadata": {},
   "outputs": [
    {
     "name": "stdout",
     "output_type": "stream",
     "text": [
      "The value of pi is  3.141592653589793\n",
      "300\n"
     ]
    }
   ],
   "source": [
    "#if you want to print the value of pi\n",
    "\n",
    "import math\n",
    "print(\"The value of pi is \", math.pi)\n",
    "\n",
    "import statistics\n",
    "\n",
    "x=[150,250,350,450]\n",
    "print(statistics.mean(x))\n",
    "\n",
    "#numpy pandas"
   ]
  },
  {
   "cell_type": "markdown",
   "id": "9b02bc70",
   "metadata": {},
   "source": [
    "### **13-Troubleshooting**"
   ]
  },
  {
   "cell_type": "code",
   "execution_count": 13,
   "id": "feba1bba",
   "metadata": {},
   "outputs": [
    {
     "name": "stdout",
     "output_type": "stream",
     "text": [
      "helloAmmar\n"
     ]
    }
   ],
   "source": [
    "\n",
    "# print(\"we are learning python with ammar\") #syntax error\n",
    "\n",
    "# print(25/0) #runtime error\n",
    "\n",
    "name= \"Ammar\"\n",
    "\n",
    "print(\"hello\"+name) #symentic error\n",
    "\n",
    "#troubleshooting is easy"
   ]
  },
  {
   "cell_type": "code",
   "execution_count": null,
   "id": "c1873b2c",
   "metadata": {},
   "outputs": [],
   "source": []
  }
 ],
 "metadata": {
  "kernelspec": {
   "display_name": "Python 3 (ipykernel)",
   "language": "python",
   "name": "python3"
  },
  "language_info": {
   "codemirror_mode": {
    "name": "ipython",
    "version": 3
   },
   "file_extension": ".py",
   "mimetype": "text/x-python",
   "name": "python",
   "nbconvert_exporter": "python",
   "pygments_lexer": "ipython3",
   "version": "3.9.12"
  }
 },
 "nbformat": 4,
 "nbformat_minor": 5
}
